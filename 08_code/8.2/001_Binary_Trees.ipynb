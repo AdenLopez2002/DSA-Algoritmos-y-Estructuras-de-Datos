{
 "cells": [
  {
   "cell_type": "code",
   "execution_count": 2,
   "id": "e656b756",
   "metadata": {},
   "outputs": [],
   "source": [
    "# Binary Tree\n",
    "class Node():\n",
    "    def __init__(self, key):\n",
    "        self.left = None\n",
    "        self.right = None\n",
    "        self.val = key     # self.data = key"
   ]
  },
  {
   "cell_type": "code",
   "execution_count": 53,
   "id": "d782de80",
   "metadata": {},
   "outputs": [],
   "source": [
    "root = Node(1)\n",
    "root.left = Node(2)\n",
    "root.right = Node(3)\n",
    "root.left.left = Node(4)"
   ]
  },
  {
   "cell_type": "code",
   "execution_count": 3,
   "id": "77efa426",
   "metadata": {},
   "outputs": [],
   "source": [
    "def Inorder(root):\n",
    "    if root:\n",
    "        Inorder(root.left)      #recursivo\n",
    "        print(root.val, end=\" \")\n",
    "        Inorder(root.right)"
   ]
  },
  {
   "cell_type": "code",
   "execution_count": 55,
   "id": "a2fa99eb",
   "metadata": {},
   "outputs": [],
   "source": [
    "def Preorder(root):\n",
    "    if root:\n",
    "        print(root.val, end=\" \")\n",
    "        Preorder(root.left)\n",
    "        Preorder(root.right)"
   ]
  },
  {
   "cell_type": "code",
   "execution_count": 56,
   "id": "3028cee0",
   "metadata": {},
   "outputs": [],
   "source": [
    "def Postorder(root):\n",
    "    if root:\n",
    "        Postorder(root.left)\n",
    "        Postorder(root.right)\n",
    "        print(root.val, end=\" \")"
   ]
  },
  {
   "cell_type": "code",
   "execution_count": 34,
   "id": "35c0aaef",
   "metadata": {},
   "outputs": [
    {
     "ename": "NameError",
     "evalue": "name 'root' is not defined",
     "output_type": "error",
     "traceback": [
      "\u001b[1;31m---------------------------------------------------------------------------\u001b[0m",
      "\u001b[1;31mNameError\u001b[0m                                 Traceback (most recent call last)",
      "Cell \u001b[1;32mIn[34], line 1\u001b[0m\n\u001b[1;32m----> 1\u001b[0m Inorder(root)\n",
      "\u001b[1;31mNameError\u001b[0m: name 'root' is not defined"
     ]
    }
   ],
   "source": [
    "Inorder(root)"
   ]
  },
  {
   "cell_type": "code",
   "execution_count": 58,
   "id": "1238177c",
   "metadata": {},
   "outputs": [
    {
     "name": "stdout",
     "output_type": "stream",
     "text": [
      "1 2 4 3 "
     ]
    }
   ],
   "source": [
    "Preorder(root)"
   ]
  },
  {
   "cell_type": "code",
   "execution_count": 59,
   "id": "6863a089",
   "metadata": {},
   "outputs": [
    {
     "name": "stdout",
     "output_type": "stream",
     "text": [
      "4 2 3 1 "
     ]
    }
   ],
   "source": [
    "Postorder(root)"
   ]
  },
  {
   "cell_type": "markdown",
   "id": "3af1a204",
   "metadata": {},
   "source": [
    "# Escribir la expresión usando un Post-Fix string"
   ]
  },
  {
   "cell_type": "code",
   "execution_count": 4,
   "id": "3f07f8a7",
   "metadata": {},
   "outputs": [],
   "source": [
    "def isOperator(c): \n",
    "    if ( c=='+' or\n",
    "       c == '-' or\n",
    "       c == '*' or\n",
    "       c == '/' or\n",
    "       c == '^'):\n",
    "        return True\n",
    "    else:\n",
    "        return False"
   ]
  },
  {
   "cell_type": "code",
   "execution_count": 5,
   "id": "f3c92139",
   "metadata": {},
   "outputs": [],
   "source": [
    "def constructTree(postfix):\n",
    "    stack = []               #crea un stack (tema 4)\n",
    "    print(\"Expresion Postfix: \", postfix)\n",
    "    for char in postfix:\n",
    "        t = Node(char)          #crea un nodo\n",
    "        print(\"\\nLee\", char, \"y ve si es operador u operando.\")\n",
    "        if isOperator(char):                       #chequea si es operador            \n",
    "            print(char, \"es OPERADOR. (padre)\")\n",
    "            #if cont==0:\n",
    "                #print(\"La Expresión carece de Operandos.\")\n",
    "                #return False\n",
    "            t1 = stack.pop()\n",
    "            print(\"hace pop de\", t1.val, \" del stack y lo guarda bajo el primer OPERANDO que encuentre. (derecha)\")\n",
    "            t2 = stack.pop()\n",
    "            print(\"hace pop de\", t2.val, \" del stack y lo guarda bajo el primer OPERANDO que encuentre. (izquierda).\")\n",
    "        \n",
    "            t.right = t1\n",
    "            t.left = t2\n",
    "           \n",
    "        else:           \n",
    "            print(char, \"es OPERANDO (hijo)\")\n",
    "            cont=1\n",
    "\n",
    "        stack.append(t)         #hace el append al stack\n",
    "        print(\"Hace push del valor t siguientes:\", t.val, \"y los guarda en el stack.\")\n",
    "    t = stack.pop()\n",
    "    print(\"Ya hizo pop del stack completo y termina con la RAIZ: \", t.val)\n",
    "    return t"
   ]
  },
  {
   "cell_type": "code",
   "execution_count": null,
   "id": "087cfd23",
   "metadata": {},
   "outputs": [],
   "source": [
    "postfix = \"BB*AC4**-\"   \n",
    "r = constructTree(postfix)\n",
    "Inorder(r)"
   ]
  },
  {
   "cell_type": "code",
   "execution_count": 8,
   "id": "0a8af372",
   "metadata": {},
   "outputs": [],
   "source": [
    "#a) \"9195+15+19+4*\"   \n",
    "#b) \"BB*AC4**-\"         FUNCIONA\n",
    "#c) \"42\"\n",
    "#d) \"A57\"\n",
    "#e) \"+/#\"       }excepciones\n",
    "#prueba = \"ab+ef*g*-\""
   ]
  },
  {
   "cell_type": "code",
   "execution_count": null,
   "id": "9c0b376f",
   "metadata": {},
   "outputs": [],
   "source": [
    "postfix = \"9195+15+19+4*\"   \n",
    "r = constructTree(postfix)\n",
    "Inorder(r)"
   ]
  },
  {
   "cell_type": "code",
   "execution_count": null,
   "id": "51d48b5f",
   "metadata": {},
   "outputs": [],
   "source": [
    "postfix = \"A57\"   #EXCEPCION\n",
    "r = constructTree(postfix)\n",
    "Inorder(r)"
   ]
  },
  {
   "cell_type": "code",
   "execution_count": 124,
   "id": "ce0d42e9",
   "metadata": {},
   "outputs": [
    {
     "name": "stdout",
     "output_type": "stream",
     "text": [
      "- * B B * A * C 4 "
     ]
    }
   ],
   "source": [
    "Preorder(r)"
   ]
  },
  {
   "cell_type": "code",
   "execution_count": 125,
   "id": "b05f59e3",
   "metadata": {},
   "outputs": [
    {
     "name": "stdout",
     "output_type": "stream",
     "text": [
      "B B * A C 4 * * - "
     ]
    }
   ],
   "source": [
    "Postorder(r)"
   ]
  }
 ],
 "metadata": {
  "kernelspec": {
   "display_name": "Python 3 (ipykernel)",
   "language": "python",
   "name": "python3"
  },
  "language_info": {
   "codemirror_mode": {
    "name": "ipython",
    "version": 3
   },
   "file_extension": ".py",
   "mimetype": "text/x-python",
   "name": "python",
   "nbconvert_exporter": "python",
   "pygments_lexer": "ipython3",
   "version": "3.11.3"
  }
 },
 "nbformat": 4,
 "nbformat_minor": 5
}
